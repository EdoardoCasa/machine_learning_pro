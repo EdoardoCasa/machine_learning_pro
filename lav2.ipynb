{
 "cells": [
  {
   "cell_type": "code",
   "execution_count": 1,
   "id": "c8edd44c",
   "metadata": {},
   "outputs": [],
   "source": [
    "from sklearn import datasets\n",
    "from sklearn import linear_model\n",
    "from sklearn.model_selection import cross_validate\n",
    "from sklearn.model_selection import cross_val_score\n",
    "from sklearn.model_selection import train_test_split\n",
    "from sklearn.model_selection import KFold\n",
    "from sklearn.preprocessing import PolynomialFeatures\n",
    "from sklearn.linear_model import Ridge\n",
    "from sklearn.linear_model import LogisticRegression\n",
    "from sklearn.neighbors import KNeighborsRegressor\n",
    "from sklearn.neighbors import KNeighborsClassifier\n",
    "from sklearn.svm import SVR\n",
    "import matplotlib.pyplot as plt\n",
    "from sklearn.model_selection import GridSearchCV\n",
    "from sklearn.metrics import classification_report, confusion_matrix \n",
    "import numpy as np\n",
    "import sklearn.metrics as metrics"
   ]
  },
  {
   "cell_type": "markdown",
   "id": "ad7bd9ee",
   "metadata": {},
   "source": [
    "importo il dataset e lo divido in train e test"
   ]
  },
  {
   "cell_type": "code",
   "execution_count": 11,
   "id": "47c90ace",
   "metadata": {},
   "outputs": [],
   "source": [
    "X,y = datasets.load_diabetes(return_X_y=True)"
   ]
  },
  {
   "cell_type": "code",
   "execution_count": 12,
   "id": "4fb434ed",
   "metadata": {},
   "outputs": [],
   "source": [
    "X_train, X_test, y_train, y_test = train_test_split(X, y, test_size=0.33,random_state=0)"
   ]
  },
  {
   "cell_type": "markdown",
   "id": "34d2d571",
   "metadata": {},
   "source": [
    "importo il modello di regressione"
   ]
  },
  {
   "cell_type": "code",
   "execution_count": 4,
   "id": "ce117bf5",
   "metadata": {},
   "outputs": [],
   "source": [
    "reg = linear_model.Lasso(alpha=0.1)"
   ]
  },
  {
   "cell_type": "markdown",
   "id": "ff50192b",
   "metadata": {},
   "source": [
    "utilizzo gridsearchcv per trovare il miglior parametro per alpha e per effettuare la convalida incrociata dividendo il dataset in 5 fold"
   ]
  },
  {
   "cell_type": "code",
   "execution_count": 22,
   "id": "51890404",
   "metadata": {},
   "outputs": [],
   "source": [
    "param_grid = {'alpha': (np.logspace(-3, 8, 100))}"
   ]
  },
  {
   "cell_type": "code",
   "execution_count": 23,
   "id": "9a50448e",
   "metadata": {},
   "outputs": [],
   "source": [
    "grid = GridSearchCV(linear_model.Lasso(), param_grid, n_jobs=-1,cv=5)"
   ]
  },
  {
   "cell_type": "code",
   "execution_count": 24,
   "id": "1a0b1305",
   "metadata": {},
   "outputs": [
    {
     "data": {
      "text/plain": [
       "GridSearchCV(cv=5, estimator=Lasso(), n_jobs=-1,\n",
       "             param_grid={'alpha': array([1.00000000e-03, 1.29154967e-03, 1.66810054e-03, 2.15443469e-03,\n",
       "       2.78255940e-03, 3.59381366e-03, 4.64158883e-03, 5.99484250e-03,\n",
       "       7.74263683e-03, 1.00000000e-02, 1.29154967e-02, 1.66810054e-02,\n",
       "       2.15443469e-02, 2.78255940e-02, 3.59381366e-02, 4.64158883e-02,\n",
       "       5.99484250e-02, 7.74263683e-02, 1.00000...\n",
       "       2.78255940e+05, 3.59381366e+05, 4.64158883e+05, 5.99484250e+05,\n",
       "       7.74263683e+05, 1.00000000e+06, 1.29154967e+06, 1.66810054e+06,\n",
       "       2.15443469e+06, 2.78255940e+06, 3.59381366e+06, 4.64158883e+06,\n",
       "       5.99484250e+06, 7.74263683e+06, 1.00000000e+07, 1.29154967e+07,\n",
       "       1.66810054e+07, 2.15443469e+07, 2.78255940e+07, 3.59381366e+07,\n",
       "       4.64158883e+07, 5.99484250e+07, 7.74263683e+07, 1.00000000e+08])})"
      ]
     },
     "execution_count": 24,
     "metadata": {},
     "output_type": "execute_result"
    }
   ],
   "source": [
    "grid.fit(X_train, y_train)"
   ]
  },
  {
   "cell_type": "code",
   "execution_count": 25,
   "id": "a55d95a1",
   "metadata": {},
   "outputs": [
    {
     "name": "stdout",
     "output_type": "stream",
     "text": [
      "{'alpha': 0.046415888336127774}\n"
     ]
    },
    {
     "data": {
      "text/plain": [
       "0.5195719908590218"
      ]
     },
     "execution_count": 25,
     "metadata": {},
     "output_type": "execute_result"
    }
   ],
   "source": [
    "print(grid.best_params_)\n",
    "grid.best_score_"
   ]
  },
  {
   "cell_type": "code",
   "execution_count": 26,
   "id": "ba9a2b30",
   "metadata": {},
   "outputs": [],
   "source": [
    "y_pred = grid.predict(X_test)"
   ]
  },
  {
   "cell_type": "code",
   "execution_count": 27,
   "id": "bf0b637a",
   "metadata": {},
   "outputs": [
    {
     "data": {
      "text/plain": [
       "1.0"
      ]
     },
     "execution_count": 27,
     "metadata": {},
     "output_type": "execute_result"
    }
   ],
   "source": [
    "grid.score(X_test,y_pred)"
   ]
  },
  {
   "cell_type": "code",
   "execution_count": null,
   "id": "1d671576",
   "metadata": {},
   "outputs": [],
   "source": []
  }
 ],
 "metadata": {
  "kernelspec": {
   "display_name": "Python 3 (ipykernel)",
   "language": "python",
   "name": "python3"
  },
  "language_info": {
   "codemirror_mode": {
    "name": "ipython",
    "version": 3
   },
   "file_extension": ".py",
   "mimetype": "text/x-python",
   "name": "python",
   "nbconvert_exporter": "python",
   "pygments_lexer": "ipython3",
   "version": "3.10.1"
  }
 },
 "nbformat": 4,
 "nbformat_minor": 5
}
